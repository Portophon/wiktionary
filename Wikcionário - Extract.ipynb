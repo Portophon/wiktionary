{
 "cells": [
  {
   "cell_type": "markdown",
   "metadata": {},
   "source": [
    "## Packages"
   ]
  },
  {
   "cell_type": "code",
   "execution_count": 1,
   "metadata": {},
   "outputs": [],
   "source": [
    "import os\n",
    "import re\n",
    "\n",
    "import codecs\n",
    "import pandas as pd"
   ]
  },
  {
   "cell_type": "markdown",
   "metadata": {},
   "source": [
    "## Load data set\n",
    "From https://dumps.wikimedia.org/ptwiktionary/latest/\n",
    "\n",
    "18-01-2022"
   ]
  },
  {
   "cell_type": "code",
   "execution_count": 2,
   "metadata": {
    "scrolled": true
   },
   "outputs": [
    {
     "name": "stdout",
     "output_type": "stream",
     "text": [
      "349113998\n"
     ]
    }
   ],
   "source": [
    "pt_dict = []\n",
    "\n",
    "with open(\"ptwiktionary-latest-pages-articles.xml\", encoding=\"utf-8\") as file:\n",
    "    pt_dict = file.read()\n",
    "print(len(pt_dict))"
   ]
  },
  {
   "cell_type": "code",
   "execution_count": 3,
   "metadata": {
    "scrolled": true
   },
   "outputs": [
    {
     "data": {
      "text/plain": [
       "['\\n    <title>excerto</title>\\n    <ns>0</ns>\\n    <id>625</id>\\n    <revision>\\n      <id>2645237</id>\\n      <parentid>2346278</parentid>\\n      <timestamp>2021-08-13T22:07:54Z</timestamp>\\n      <contributor>\\n        <username>Maykeinwiki</username>\\n        <id>81160</id>\\n      </contributor>\\n      <comment>/* Substantivo */Trecho e excerto tem o mesmo significado [https://www.google.com/search?q=excerto&amp;oq=&amp;aqs=chrome.0.35i39i362l5...5.-1j0j7&amp;client=ms-android-motorola-rev2&amp;sourceid=chrome-mobile&amp;ie=UTF-8 excerto, por Oxford Languages]</comment>\\n      <model>wikitext</model>\\n      <format>text/x-wiki</format>\\n      <text bytes=\"705\" xml:space=\"preserve\">={{-pt-}}=\\n==Substantivo==\\n{{flex.pt|ms=excerto|mp=excertos}}\\n{{paroxítona|ex|cer|to}} {{gramática|m}}\\n# [[extrato]], [[fragmento]] de um [[texto]]; [[trecho]]\\n#: \\'\\'A seguir, um \\'\\'\\'excerto\\'\\'\\' do texto original.\\'\\'\\n\\n===Tradução===\\n{{tradini}}\\n* {{trad|es|extracto}}\\n* {{trad|fr|extrait}}\\n{{tradmeio}}\\n* {{trad|en|excerpt}}\\n{{tradfim}}\\n\\n=={{etimologia|pt}}==\\n{{llietimo|la|excerptu|pt||colhido de}}\\n\\n=={{pronúncia|pt}}==\\n===Brasil===\\n* [[SAMPA]]: /e.&quot;sEx.tu/\\n* [[AFI]]: {{AFI|/esˈertu/|pt}}\\n\\n===Portugal===\\n* [[AFI]]: {{AFI|/ejʃˈseɾtu/|pt}}, {{AFI|/ejˈʃeɾtu/|pt}}\\n\\n==Ver também==\\n===No Wikcionário===\\n* [[perícope]]\\n\\n==Anagramas==\\n# [[excretar|excreto]]\\n\\n[[Categoria:Substantivo (Português)]]</text>\\n      <sha1>n3r0nb03lzgbgfkoquk6337sg54swkh</sha1>\\n    </revision>',\n",
       " '\\n    <title>peluche</title>\\n    <ns>0</ns>\\n    <id>631</id>\\n    <revision>\\n      <id>2621091</id>\\n      <parentid>2522285</parentid>\\n      <timestamp>2021-02-01T23:25:27Z</timestamp>\\n      <contributor>\\n        <username>MarxavBot</username>\\n        <id>80155</id>\\n      </contributor>\\n      <minor />\\n      <comment>AFI Portugal</comment>\\n      <model>wikitext</model>\\n      <format>text/x-wiki</format>\\n      <text bytes=\"2858\" xml:space=\"preserve\">={{-pt-}}=\\n==Substantivo==\\n{{paroxítona|pe|lu|che}}, {{gramática|m}}\\n# [[tecido]] [[aveludado]], feito de [[lã]], [[seda]] ou [[material]] [[sintético]], simulando [[pelo]]s [[felpudo]]s de um dos [[lado]]s\\n\\n===Sinônimos===\\n* {{escopo|pt|Brasil}} [[pelúcia]]\\n\\n===Tradução===\\n{{tradini}}\\n* {{trad|de|Plüsch}}\\n* {{trad|es|felpa|peluche}}\\n* {{trad|eo|pluŝo}}\\n* {{trad|fo|plúss}}\\n* {{trad|fr|peluche}}\\n* {{trad|io|plusho}}\\n{{tradmeio}}\\n* {{trad|it|peluche}}\\n* {{trad|en|plush}}\\n* {{trad|nl|pluche}}\\n* {{trad-|ru|плюш|(pliuch)}}\\n* {{trad|sv|plysch}}\\n{{tradfim}}\\n\\n=={{pronúncia|pt}}==\\n===Brasil===\\n====Carioca====\\n* [[X-SAMPA]]: /pe.&quot;lu.Sia/\\n====Paulista====\\n* [[AFI]]: {{AFI|/pe.\\'lu.ʃi/}}\\n* [[X-SAMPA]]: /pe.&quot;lu.Si/\\n\\n===Portugal===\\n* AFI: {{AFI|/pɨ.ˈlu.ʃɨ/}}\\n\\n==Ligações externas==\\n* {{Aulete}}\\n* {{DPLP}}\\n* {{Infopédia}}\\n* {{PLP}}\\n* {{VOLPABL}}\\n\\n[[Categoria:Substantivo (Português)]]\\n\\n\\n={{-es-}}=\\n==Substantivo==\\n\\'\\'\\'pe.{{grifar|lu}}.che\\'\\'\\' {{gramática|m}}\\n# [[peluche#Português|peluche]], [[pelúcia]]\\n# [[brinquedo]] de [[peluche#Português|peluche]] ou outro [[tecido]] e forrado com [[material]] [[macio]], geralmente no [[formato]] de um [[animal]]\\n# [[apelido]] [[carinhoso]] dado a alguém [[querido]]\\n\\n===Expressões===\\n* \\'\\'\\'[[oso de peluche]]\\'\\'\\': urso de pelúcia\\n\\n=={{pronúncia|es}}==\\n* [[AFI]]: {{AFI|/pe.\\'lu.ʧe/}}\\n\\n==Ligações externas==\\n* {{DRAE}}\\n\\n[[Categoria:Substantivo (Espanhol)]]\\n[[Categoria:Trissílabo (Espanhol)]]\\n[[Categoria:Paroxítona (Espanhol)]]\\n\\n\\n={{-fr-}}=\\n==Substantivo==\\n{{flex.fr|fs=peluche|fp=peluches}}\\n\\'\\'\\'pe.{{grifar|luche}}\\'\\'\\', {{gramática|f}}\\n# [[peluche#Português|peluche]], [[pelúcia]]:\\n#* \\'\\'un manteau double de \\'\\'\\'peluche\\'\\'\\'\\'\\' &lt;small&gt;(uma capa dupla de peluche)&lt;/small&gt;\\n# [[brinquedo]] de [[peluche#Português|peluche]] ou outro [[tecido]] e forrado com [[material]] [[macio]], geralmente no [[formato]] de um [[animal]]:\\n#* \\'\\'J’ai gagné une \\'\\'\\'peluche\\'\\'\\' à la foire.\\'\\' &lt;small&gt;(Ganhei um animal de pelúcia na feira.)&lt;/small&gt;\\n# [[apelido]] [[carinhoso]] dado a alguém [[querido]]\\n\\n===Expressões===\\n* \\'\\'\\'[[ours en peluche]]\\'\\'\\': urso de pelúcia\\n\\n==={{-varort-}}===\\n* [[pluche]]\\n\\n===Sinônimos===\\n* De \\'\\'\\'2\\'\\'\\': (&lt;span style=&quot;color:green&quot;&gt;\\'\\'Canadá, Quebeque\\'\\'&lt;/span&gt;) [[toutou]]\\n\\n===Verbetes derivados===\\n* [[pelucher]]\\n\\n=={{etimologia|fr}}==\\n{{llietimo|fro|peluchier|fr}}\\n\\n=={{pronúncia|fr}}==\\n* [[AFI]]: {{AFI|/pə.\\'lyʃ/}}\\n\\n[[Categoria:Substantivo (Francês)]]\\n[[Categoria:Dissílabo (Francês)]]\\n[[Categoria:Oxítona (Francês)]]\\n\\n\\n={{-it-}}=\\n==Substantivo==\\n\\'\\'\\'pe.{{grifar|lu}}.che\\'\\'\\' {{gramática|m}}\\n# [[peluche#Português|peluche]], [[pelúcia]]\\n\\n===Expressões===\\n* \\'\\'\\'[[orso di peluche]]\\'\\'\\': urso de pelúcia\\n\\n=={{pronúncia|it}}==\\n* [[AFI]]: {{AFI|/pe.\\'lu.ke/}}\\n\\n[[Categoria:Substantivo (Italiano)]]\\n[[Categoria:Trissílabo (Italiano)]]\\n[[Categoria:Paroxítona (Italiano)]]</text>\\n      <sha1>1f6ut0x7w2zsklr9ielcwa13b846sqo</sha1>\\n    </revision>',\n",
       " '\\n    <title>contribuição</title>\\n    <ns>0</ns>\\n    <id>633</id>\\n    <revision>\\n      <id>2629583</id>\\n      <parentid>2614445</parentid>\\n      <timestamp>2021-04-05T05:25:45Z</timestamp>\\n      <contributor>\\n        <username>GabMarquetto</username>\\n        <id>81219</id>\\n      </contributor>\\n      <comment>/* Tradução */</comment>\\n      <model>wikitext</model>\\n      <format>text/x-wiki</format>\\n      <text bytes=\"991\" xml:space=\"preserve\">{{Wikipédia}}\\n\\n={{-pt-}}=\\n==Substantivo==\\n{{flex.pt|fs=contribuição|fp=contribuições}}\\n{{oxítona|con|tri|bu|i|ção}}, {{gramática|f}}\\n\\n# [[porção]] cuja [[origem]] pode ser atribuída a [[alguém]] ou [[algo]]\\n#* \\'\\'Esta definição é a minha primeira \\'\\'\\'contribuição\\'\\'\\' ao Wikcionário.\\'\\'\\n\\n===Expressões===\\n* \\'\\'\\'[[contribuição de melhoria]]\\'\\'\\':\\n\\n===Sinônimos===\\n* De \\'\\'\\'1\\'\\'\\': [[contributo]]\\n\\n===Tradução===\\n{{tradini}}\\n* {{trad|es|contribución}}\\n* {{trad|fr|contribution}}\\n* {{trad|nl|bijdrage}}\\n* {{trad|en|contribution}}\\n* {{t|ja|投稿||ぜいきん}}\\n* {{trad|li|biedraag}}\\n* {{trad|ru|вклад}}\\n* {{trad|sv|bidrag|skatt}}\\n* {{trad|tr|katkı}}\\n{{tradfim}}\\n\\n=={{etimologia|pt}}==\\n{{llietimo|la|contributio|pt|ponto=não}} (\\'\\'-onis\\'\\').\\n\\n=={{pronúncia|pt}}==\\n===Brasil===\\n====Paulistana e Caipira====\\n* [[AFI]]: /kõw.tɾi.bu.i.ˈsãw/\\n* [[SAMPA]]: /ko~.tri.bu.i.&quot;s6~w/\\n\\n===Portugal===\\n* AFI: {{AFI|/kõ.tɾi.bwi.ˈsɐ̃w̃/}}\\n\\n[[Categoria:Substantivo (Português)]]</text>\\n      <sha1>ltjaevnolctk57hm26fkuo0j29hjvzc</sha1>\\n    </revision>']"
      ]
     },
     "execution_count": 3,
     "metadata": {},
     "output_type": "execute_result"
    }
   ],
   "source": [
    "#pt_dict = urllib.parse.unquote(pt_dict)\n",
    "regex = r\"(?<=\\<page\\>)(.*?)\\s*(?=\\<\\/page\\>)\"\n",
    "pt_entries= re.findall(regex, pt_dict, re.DOTALL)\n",
    "\n",
    "word_search = \"===Portugal===\"\n",
    "pt_entries = [match for match in pt_entries if word_search in match]\n",
    "\n",
    "word_search = \"AFI\"\n",
    "pt_entries = [match for match in pt_entries if word_search in match]\n",
    "\n",
    "pt_entries[0:3]"
   ]
  },
  {
   "cell_type": "code",
   "execution_count": 4,
   "metadata": {},
   "outputs": [],
   "source": [
    "pt_entries_df = pd.DataFrame()"
   ]
  },
  {
   "cell_type": "markdown",
   "metadata": {},
   "source": [
    "# IPA"
   ]
  },
  {
   "cell_type": "code",
   "execution_count": 5,
   "metadata": {
    "scrolled": true
   },
   "outputs": [
    {
     "data": {
      "text/plain": [
       "[['===Portugal===\\n* [[AFI]]: {{AFI|/ejʃˈseɾtu/|pt}}, {{AFI|/ejˈʃeɾtu/|pt}'],\n",
       " ['===Portugal===\\n* AFI: {{AFI|/pɨ.ˈlu.ʃɨ/}'],\n",
       " ['===Portugal===\\n* AFI: {{AFI|/kõ.tɾi.bwi.ˈsɐ̃w̃/}'],\n",
       " ['===Portugal===\\n* AFI: {{AFI|/aɫ.ˈɡɐ̃j̃/}'],\n",
       " ['===Portugal===\\n* AFI: {{AFI|/ˈkawʃ/}'],\n",
       " ['===Portugal===\\n* AFI: {{AFI|/ˈaɫ.ɡu/}'],\n",
       " ['===Portugal===\\n* AFI: {{AFI|/ɐ.nɐɾ.ˈki.ɐ/}'],\n",
       " ['===Portugal===\\n* AFI: {{AFI|/sɨ.ˈlɐj.ɾu/}'],\n",
       " ['===Portugal===\\n* AFI: {{AFI|/kɐ.ˈɾjɔ.kɐ/}'],\n",
       " ['===Portugal===\\n* [[X-SAMPA]]: /&quot;g4a.tiZ']]"
      ]
     },
     "execution_count": 5,
     "metadata": {},
     "output_type": "execute_result"
    }
   ],
   "source": [
    "regex = r\"(===Portugal===\\n.*).+\"\n",
    "pt_entries_IPA = [re.findall(regex, i, re.MULTILINE) for i in pt_entries]\n",
    "\n",
    "pt_entries_IPA[0:10] "
   ]
  },
  {
   "cell_type": "code",
   "execution_count": 6,
   "metadata": {},
   "outputs": [
    {
     "data": {
      "text/plain": [
       "[' {{AFI|/ejʃˈseɾtu/|pt}}, {{AFI|/ejˈʃeɾtu/|pt}',\n",
       " ' {{AFI|/pɨ.ˈlu.ʃɨ/}',\n",
       " ' {{AFI|/kõ.tɾi.bwi.ˈsɐ̃w̃/}',\n",
       " ' {{AFI|/aɫ.ˈɡɐ̃j̃/}',\n",
       " ' {{AFI|/ˈkawʃ/}',\n",
       " ' {{AFI|/ˈaɫ.ɡu/}',\n",
       " ' {{AFI|/ɐ.nɐɾ.ˈki.ɐ/}',\n",
       " ' {{AFI|/sɨ.ˈlɐj.ɾu/}',\n",
       " ' {{AFI|/kɐ.ˈɾjɔ.kɐ/}',\n",
       " ' /&quot;g4a.tiZ']"
      ]
     },
     "execution_count": 6,
     "metadata": {},
     "output_type": "execute_result"
    }
   ],
   "source": [
    "#pt_entries_IPA = [re.sub(\"\\['===Portugal===\", \"\", str(i)) for i in pt_entries_IPA]\n",
    "pt_entries_IPA = [re.sub(\"']\", \"\", str(i)) for i in pt_entries_IPA]\n",
    "pt_entries_IPA = [str(i).split(':')[-1] for i in pt_entries_IPA]\n",
    "\n",
    "pt_entries_IPA[0:10] "
   ]
  },
  {
   "cell_type": "code",
   "execution_count": 7,
   "metadata": {
    "scrolled": true
   },
   "outputs": [
    {
     "data": {
      "text/plain": [
       "[['ejʃseɾtuejʃeɾtu'],\n",
       " ['pɨ.lu.ʃɨ'],\n",
       " ['kõ.tɾi.bu.i.sɐw'],\n",
       " ['al.gɐj'],\n",
       " ['kawʃ'],\n",
       " ['al.gu'],\n",
       " ['ɐ.nɐɾ.ki.ɐ'],\n",
       " ['sɨ.lɐj.ɾu'],\n",
       " ['kɐ.ɾi.ɔ.kɐ'],\n",
       " ['gɾa.tiʃ']]"
      ]
     },
     "execution_count": 7,
     "metadata": {},
     "output_type": "execute_result"
    }
   ],
   "source": [
    "pt_entries_IPA = [re.sub(\"{{AFI\\|\\/\", \"\", i) for i in pt_entries_IPA]\n",
    "pt_entries_IPA = [re.sub(\"lang=pt\", \"\", i) for i in pt_entries_IPA]\n",
    "pt_entries_IPA = [re.sub(\"pt\", \"\", i) for i in pt_entries_IPA]\n",
    "pt_entries_IPA = [re.sub(\"[\\/\\|\\'\\}\\{]\", \"\", i) for i in pt_entries_IPA]\n",
    "pt_entries_IPA = [re.sub('\"', \"\", i) for i in pt_entries_IPA]\n",
    "pt_entries_IPA = [re.sub(\"&quot;\", \"\", i) for i in pt_entries_IPA]\n",
    "pt_entries_IPA = [re.sub(\"&lt;\", \"\", i) for i in pt_entries_IPA]\n",
    "pt_entries_IPA = [re.sub(\"small&gt;\", \"\", i) for i in pt_entries_IPA]\n",
    "pt_entries_IPA = [re.sub(\"\\[\", \"\", i) for i in pt_entries_IPA]\n",
    "pt_entries_IPA = [re.sub(\"\\]\", \"\", i) for i in pt_entries_IPA]\n",
    "pt_entries_IPA = [re.sub(\"IPA\", \"\", i) for i in pt_entries_IPA]\n",
    "pt_entries_IPA = [re.sub(\" \", \"\", i) for i in pt_entries_IPA]\n",
    "pt_entries_IPA = [re.sub(\"=.*\", \"\", i) for i in pt_entries_IPA]\n",
    "pt_entries_IPA = [re.sub(\"[\\(\\)]\", \"\", i) for i in pt_entries_IPA]\n",
    "pt_entries_IPA = [re.sub(\"\\'\", \"\", i) for i in pt_entries_IPA]\n",
    "pt_entries_IPA = [re.sub(\"Lisboa\", \"\", i) for i in pt_entries_IPA]\n",
    "pt_entries_IPA = [re.sub(\"AFI\", \"\", i) for i in pt_entries_IPA]\n",
    "pt_entries_IPA = [re.sub(\"gw\", \"gʷ\", i) for i in pt_entries_IPA]\n",
    "pt_entries_IPA = [re.sub(\"kw\", \"kʷ\", i) for i in pt_entries_IPA]\n",
    "pt_entries_IPA = [re.sub(\"ju\", \"i.u\", i) for i in pt_entries_IPA]\n",
    "pt_entries_IPA = [re.sub(\"jo\", \"i.o\", i) for i in pt_entries_IPA]\n",
    "pt_entries_IPA = [re.sub(\"jõ\", \"i.õ\", i) for i in pt_entries_IPA]\n",
    "pt_entries_IPA = [re.sub(\"jɔ\", \"i.ɔ\", i) for i in pt_entries_IPA]\n",
    "pt_entries_IPA = [re.sub(\"jɐ\", \"i.ɐ\", i) for i in pt_entries_IPA]\n",
    "pt_entries_IPA = [re.sub(\"jɐ̃\", \"i.ɐ̃\", i) for i in pt_entries_IPA]\n",
    "pt_entries_IPA = [re.sub(\"jɛ\", \"i.ɛ\", i) for i in pt_entries_IPA]\n",
    "pt_entries_IPA = [re.sub(\"je\", \"i.e\", i) for i in pt_entries_IPA]\n",
    "pt_entries_IPA = [re.sub(\"jẽ\", \"i.ẽ\", i) for i in pt_entries_IPA]\n",
    "pt_entries_IPA = [re.sub(\"wo\", \"u.o\", i) for i in pt_entries_IPA]\n",
    "pt_entries_IPA = [re.sub(\"wɔ\", \"u.ɔ\", i) for i in pt_entries_IPA]\n",
    "pt_entries_IPA = [re.sub(\"wa\", \"u.a\", i) for i in pt_entries_IPA]\n",
    "pt_entries_IPA = [re.sub(\"wɐ̃\", \"u.ɐ̃\", i) for i in pt_entries_IPA]\n",
    "pt_entries_IPA = [re.sub(\"wɛ\", \"u.ɛ\", i) for i in pt_entries_IPA]\n",
    "pt_entries_IPA = [re.sub(\"we\", \"u.e\", i) for i in pt_entries_IPA]\n",
    "pt_entries_IPA = [re.sub(\"wẽ\", \"u.ẽ\", i) for i in pt_entries_IPA]\n",
    "pt_entries_IPA = [re.sub(\"wi\", \"u.i\", i) for i in pt_entries_IPA]\n",
    "pt_entries_IPA = [re.sub(\"wĩ\", \"u.ĩ\", i) for i in pt_entries_IPA]\n",
    "pt_entries_IPA = [re.sub(\"4\", \"ɾ\", i) for i in pt_entries_IPA]\n",
    "pt_entries_IPA = [re.sub(\"6\", \"ɐ\", i) for i in pt_entries_IPA]\n",
    "pt_entries_IPA = [re.sub(\"R\", \"ʀ\", i) for i in pt_entries_IPA]\n",
    "pt_entries_IPA = [re.sub(\"ʁ\", \"ʀ\", i) for i in pt_entries_IPA]\n",
    "pt_entries_IPA = [re.sub(\"Z\", \"ʃ\", i) for i in pt_entries_IPA]\n",
    "pt_entries_IPA = [re.sub(\"_\", \"\", i) for i in pt_entries_IPA]\n",
    "pt_entries_IPA = [re.sub(\"S\", \"ʃ\", i) for i in pt_entries_IPA]\n",
    "pt_entries_IPA = [re.sub(\"ô\", \"o\", i) for i in pt_entries_IPA]\n",
    "pt_entries_IPA = [re.sub(\"ł\", \"ɫ\", i) for i in pt_entries_IPA]\n",
    "pt_entries_IPA = [re.sub(\"ɫ\", \"l\", i) for i in pt_entries_IPA]\n",
    "pt_entries_IPA = [re.sub(\"0\", \"\", i) for i in pt_entries_IPA]\n",
    "pt_entries_IPA = [re.sub(\",\", \"\", i) for i in pt_entries_IPA]\n",
    "pt_entries_IPA = [re.sub(\"\\:\", \"\", i) for i in pt_entries_IPA]\n",
    "pt_entries_IPA = [re.sub(\"\\,\", \"\", i) for i in pt_entries_IPA]\n",
    "pt_entries_IPA = [re.sub(\"\\ˌ\", \"\", i) for i in pt_entries_IPA]\n",
    "pt_entries_IPA = [re.sub(\"\\[\\]\", \"\", i) for i in pt_entries_IPA]\n",
    "pt_entries_IPA = [re.sub(\"↔\", \"\", i) for i in pt_entries_IPA]\n",
    "pt_entries_IPA = [re.sub(\"psi.ché\", \"\", i) for i in pt_entries_IPA]\n",
    "pt_entries_IPA = [re.sub(\"ʧɪ\", \"ti\", i) for i in pt_entries_IPA]\n",
    "pt_entries_IPA = [re.sub(\"β\", \"b\", i) for i in pt_entries_IPA]\n",
    "pt_entries_IPA = [re.sub(\"ɜ\", \"ɐ\", i) for i in pt_entries_IPA]\n",
    "pt_entries_IPA = [re.sub(\"ɣ\", \"g\", i) for i in pt_entries_IPA]\n",
    "pt_entries_IPA = [re.sub(\"ɡ\", \"g\", i) for i in pt_entries_IPA]\n",
    "pt_entries_IPA = [re.sub(\"ð\", \"d\", i) for i in pt_entries_IPA]\n",
    "pt_entries_IPA = [re.sub(\"ʊ\", \"u\", i) for i in pt_entries_IPA]\n",
    "pt_entries_IPA = [re.sub(\"c\", \"k\", i) for i in pt_entries_IPA]\n",
    "pt_entries_IPA = [re.sub(\"ə\", \"ɨ\", i) for i in pt_entries_IPA]\n",
    "pt_entries_IPA = [re.sub(\"\\<\", \"\", i) for i in pt_entries_IPA]\n",
    "pt_entries_IPA = [re.sub(\"text\", \"\", i) for i in pt_entries_IPA]\n",
    "pt_entries_IPA = [re.sub(\"\\ˈ\", \"\", i) for i in pt_entries_IPA]\n",
    "pt_entries_IPA = [re.sub(\"r\", \"ʀ\", i) for i in pt_entries_IPA]\n",
    "pt_entries_IPA = [re.sub(\"̃\", \"\", i) for i in pt_entries_IPA]\n",
    "pt_entries_IPA = [re.sub(\"\\̣\t\", \"\", i) for i in pt_entries_IPA]\n",
    "pt_entries_IPA = [re.sub(\"ː\", \"\", i) for i in pt_entries_IPA]\n",
    "pt_entries_IPA = [re.sub(\"̪\", \"\", i) for i in pt_entries_IPA]\n",
    "pt_entries_IPA = [re.sub(\"̣\", \"\", i) for i in pt_entries_IPA]\n",
    "\n",
    "\n",
    "pt_entries_IPA = [i.split(',') for i in pt_entries_IPA]\n",
    "\n",
    "pt_entries_IPA[0:10] "
   ]
  },
  {
   "cell_type": "code",
   "execution_count": 8,
   "metadata": {},
   "outputs": [],
   "source": [
    "pt_entries_df[\"spelling\"] = pt_entries_IPA"
   ]
  },
  {
   "cell_type": "markdown",
   "metadata": {},
   "source": [
    "# Spelling"
   ]
  },
  {
   "cell_type": "code",
   "execution_count": 9,
   "metadata": {
    "scrolled": false
   },
   "outputs": [
    {
     "data": {
      "text/plain": [
       "['excerto',\n",
       " 'peluche',\n",
       " 'contribuição',\n",
       " 'alguém',\n",
       " 'caos',\n",
       " 'algo',\n",
       " 'anarquia',\n",
       " 'celeiro',\n",
       " 'carioca',\n",
       " 'grátis']"
      ]
     },
     "execution_count": 9,
     "metadata": {},
     "output_type": "execute_result"
    }
   ],
   "source": [
    "regex = r\"(?<=\\<title\\>)(.*)(?=\\<\\/title\\>)\"\n",
    "pt_entries_ort = [re.findall(regex, i)[0] for i in pt_entries]\n",
    "pt_entries_ort[0:10] "
   ]
  },
  {
   "cell_type": "code",
   "execution_count": 10,
   "metadata": {},
   "outputs": [],
   "source": [
    "pt_entries_df[\"word\"] = pt_entries_ort"
   ]
  },
  {
   "cell_type": "code",
   "execution_count": 11,
   "metadata": {},
   "outputs": [],
   "source": [
    "pt_entries_df.to_csv(\"wikcionario_IPA.csv\", index = False, header = True)"
   ]
  },
  {
   "cell_type": "code",
   "execution_count": null,
   "metadata": {},
   "outputs": [],
   "source": []
  }
 ],
 "metadata": {
  "hide_input": false,
  "kernelspec": {
   "display_name": "Python 3",
   "language": "python",
   "name": "python3"
  },
  "language_info": {
   "codemirror_mode": {
    "name": "ipython",
    "version": 3
   },
   "file_extension": ".py",
   "mimetype": "text/x-python",
   "name": "python",
   "nbconvert_exporter": "python",
   "pygments_lexer": "ipython3",
   "version": "3.8.5"
  },
  "toc": {
   "base_numbering": 1,
   "nav_menu": {},
   "number_sections": true,
   "sideBar": true,
   "skip_h1_title": false,
   "title_cell": "Table of Contents",
   "title_sidebar": "Contents",
   "toc_cell": false,
   "toc_position": {},
   "toc_section_display": true,
   "toc_window_display": true
  }
 },
 "nbformat": 4,
 "nbformat_minor": 4
}
